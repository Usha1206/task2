{
 "metadata": {
  "language_info": {
   "codemirror_mode": {
    "name": "ipython",
    "version": 3
   },
   "file_extension": ".py",
   "mimetype": "text/x-python",
   "name": "python",
   "nbconvert_exporter": "python",
   "pygments_lexer": "ipython3",
   "version": "3.8.5"
  },
  "orig_nbformat": 2,
  "kernelspec": {
   "name": "python385jvsc74a57bd03de59ade2ee4eabf8d6554090db31bdd94608df00f05391c2d316a7da62ee3f6",
   "display_name": "Python 3.8.5 64-bit (conda)"
  }
 },
 "nbformat": 4,
 "nbformat_minor": 2,
 "cells": [
  {
   "cell_type": "code",
   "execution_count": 1,
   "metadata": {},
   "outputs": [
    {
     "output_type": "stream",
     "name": "stdout",
     "text": [
      "Collecting python-barcode\n",
      "  Downloading python_barcode-0.13.1-py3-none-any.whl (217 kB)\n",
      "Installing collected packages: python-barcode\n",
      "Successfully installed python-barcode-0.13.1\n",
      "Note: you may need to restart the kernel to use updated packages.\n",
      "  WARNING: The script python-barcode.exe is installed in 'C:\\ProgramData\\anaconda3\\Scripts' which is not on PATH.\n",
      "  Consider adding this directory to PATH or, if you prefer to suppress this warning, use --no-warn-script-location.\n"
     ]
    }
   ],
   "source": [
    "pip install python-barcode"
   ]
  },
  {
   "cell_type": "code",
   "execution_count": 2,
   "metadata": {},
   "outputs": [
    {
     "output_type": "stream",
     "name": "stdout",
     "text": [
      "Requirement already satisfied: pillow in c:\\programdata\\anaconda3\\lib\\site-packages (8.0.1)\nNote: you may need to restart the kernel to use updated packages.\n"
     ]
    }
   ],
   "source": [
    "pip install pillow"
   ]
  },
  {
   "cell_type": "code",
   "execution_count": 4,
   "metadata": {},
   "outputs": [
    {
     "output_type": "execute_result",
     "data": {
      "text/plain": [
       "'new_code.svg'"
      ]
     },
     "metadata": {},
     "execution_count": 4
    }
   ],
   "source": [
    "# import EAN13 from barcode module\n",
    "from barcode import EAN13\n",
    "  \n",
    "# Make sure to pass the number as string\n",
    "number = '5901234123457'\n",
    "  \n",
    "# Now, let's create an object of EAN13\n",
    "# class and pass the number\n",
    "my_code = EAN13(number)\n",
    "  \n",
    "# Our barcode is ready. Let's save it.\n",
    "my_code.save(\"new_code\")"
   ]
  },
  {
   "cell_type": "code",
   "execution_count": 6,
   "metadata": {},
   "outputs": [
    {
     "output_type": "execute_result",
     "data": {
      "text/plain": [
       "'new_code2.png'"
      ]
     },
     "metadata": {},
     "execution_count": 6
    }
   ],
   "source": [
    "# import EAN13 from barcode module\n",
    "from barcode import EAN13\n",
    "  \n",
    "# import ImageWriter to generate an image file\n",
    "from barcode.writer import ImageWriter\n",
    "  \n",
    "# Make sure to pass the number as string\n",
    "number1 = '61500023500278965412'\n",
    "  \n",
    "# Now, let's create an object of EAN13 class and \n",
    "# pass the number with the ImageWriter() as the \n",
    "# writer\n",
    "my_code = EAN13(number1, writer=ImageWriter())\n",
    "  \n",
    "# Our barcode is ready. Let's save it.\n",
    "my_code.save(\"new_code2\")"
   ]
  },
  {
   "cell_type": "code",
   "execution_count": null,
   "metadata": {},
   "outputs": [],
   "source": []
  }
 ]
}